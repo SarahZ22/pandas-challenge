{
 "cells": [
  {
   "cell_type": "markdown",
   "metadata": {},
   "source": [
    "# Written description of three observable trends based on the data.\n",
    "\n",
    "1. Of the 576 total players the majority are male (84%) with a smaller percent being female (14%). Despite having a small percentage (1.9%) of non-disclosed gender players we can still safely say the main player base is male dominant.\n",
    "\n",
    " \n",
    "\n",
    "2. The peak age demigraphic for this game appears to be young adults. The main group is ages 20-24 (44.8%) with secondary groups being 15-19 (18.6%) and 25-29 (13.4%). The peak demigraphic is also the main purchasing group and has brought in the most money.\n",
    "\n",
    " \n",
    "\n",
    "3. The two most popluar items are Final Critic and Oathbreaker, Last Hope fo the Breaking Storm with 13 and 12 purchases respectively. All other items are 9 or less purchases. How can we make more items like these that people would be willing to buy?"
   ]
  },
  {
   "cell_type": "markdown",
   "metadata": {},
   "source": [
    "### Note\n",
    "* Instructions have been included for each segment. You do not have to follow them exactly, but they are included to help you think through the steps."
   ]
  },
  {
   "cell_type": "code",
   "execution_count": 134,
   "metadata": {},
   "outputs": [
    {
     "data": {
      "text/html": [
       "<div>\n",
       "<style scoped>\n",
       "    .dataframe tbody tr th:only-of-type {\n",
       "        vertical-align: middle;\n",
       "    }\n",
       "\n",
       "    .dataframe tbody tr th {\n",
       "        vertical-align: top;\n",
       "    }\n",
       "\n",
       "    .dataframe thead th {\n",
       "        text-align: right;\n",
       "    }\n",
       "</style>\n",
       "<table border=\"1\" class=\"dataframe\">\n",
       "  <thead>\n",
       "    <tr style=\"text-align: right;\">\n",
       "      <th></th>\n",
       "      <th>Purchase ID</th>\n",
       "      <th>SN</th>\n",
       "      <th>Age</th>\n",
       "      <th>Gender</th>\n",
       "      <th>Item ID</th>\n",
       "      <th>Item Name</th>\n",
       "      <th>Price</th>\n",
       "    </tr>\n",
       "  </thead>\n",
       "  <tbody>\n",
       "    <tr>\n",
       "      <th>0</th>\n",
       "      <td>0</td>\n",
       "      <td>Lisim78</td>\n",
       "      <td>20</td>\n",
       "      <td>Male</td>\n",
       "      <td>108</td>\n",
       "      <td>Extraction, Quickblade Of Trembling Hands</td>\n",
       "      <td>3.53</td>\n",
       "    </tr>\n",
       "    <tr>\n",
       "      <th>1</th>\n",
       "      <td>1</td>\n",
       "      <td>Lisovynya38</td>\n",
       "      <td>40</td>\n",
       "      <td>Male</td>\n",
       "      <td>143</td>\n",
       "      <td>Frenzied Scimitar</td>\n",
       "      <td>1.56</td>\n",
       "    </tr>\n",
       "    <tr>\n",
       "      <th>2</th>\n",
       "      <td>2</td>\n",
       "      <td>Ithergue48</td>\n",
       "      <td>24</td>\n",
       "      <td>Male</td>\n",
       "      <td>92</td>\n",
       "      <td>Final Critic</td>\n",
       "      <td>4.88</td>\n",
       "    </tr>\n",
       "    <tr>\n",
       "      <th>3</th>\n",
       "      <td>3</td>\n",
       "      <td>Chamassasya86</td>\n",
       "      <td>24</td>\n",
       "      <td>Male</td>\n",
       "      <td>100</td>\n",
       "      <td>Blindscythe</td>\n",
       "      <td>3.27</td>\n",
       "    </tr>\n",
       "    <tr>\n",
       "      <th>4</th>\n",
       "      <td>4</td>\n",
       "      <td>Iskosia90</td>\n",
       "      <td>23</td>\n",
       "      <td>Male</td>\n",
       "      <td>131</td>\n",
       "      <td>Fury</td>\n",
       "      <td>1.44</td>\n",
       "    </tr>\n",
       "    <tr>\n",
       "      <th>5</th>\n",
       "      <td>5</td>\n",
       "      <td>Yalae81</td>\n",
       "      <td>22</td>\n",
       "      <td>Male</td>\n",
       "      <td>81</td>\n",
       "      <td>Dreamkiss</td>\n",
       "      <td>3.61</td>\n",
       "    </tr>\n",
       "    <tr>\n",
       "      <th>6</th>\n",
       "      <td>6</td>\n",
       "      <td>Itheria73</td>\n",
       "      <td>36</td>\n",
       "      <td>Male</td>\n",
       "      <td>169</td>\n",
       "      <td>Interrogator, Blood Blade of the Queen</td>\n",
       "      <td>2.18</td>\n",
       "    </tr>\n",
       "    <tr>\n",
       "      <th>7</th>\n",
       "      <td>7</td>\n",
       "      <td>Iskjaskst81</td>\n",
       "      <td>20</td>\n",
       "      <td>Male</td>\n",
       "      <td>162</td>\n",
       "      <td>Abyssal Shard</td>\n",
       "      <td>2.67</td>\n",
       "    </tr>\n",
       "  </tbody>\n",
       "</table>\n",
       "</div>"
      ],
      "text/plain": [
       "   Purchase ID             SN  Age Gender  Item ID  \\\n",
       "0            0        Lisim78   20   Male      108   \n",
       "1            1    Lisovynya38   40   Male      143   \n",
       "2            2     Ithergue48   24   Male       92   \n",
       "3            3  Chamassasya86   24   Male      100   \n",
       "4            4      Iskosia90   23   Male      131   \n",
       "5            5        Yalae81   22   Male       81   \n",
       "6            6      Itheria73   36   Male      169   \n",
       "7            7    Iskjaskst81   20   Male      162   \n",
       "\n",
       "                                   Item Name  Price  \n",
       "0  Extraction, Quickblade Of Trembling Hands   3.53  \n",
       "1                          Frenzied Scimitar   1.56  \n",
       "2                               Final Critic   4.88  \n",
       "3                                Blindscythe   3.27  \n",
       "4                                       Fury   1.44  \n",
       "5                                  Dreamkiss   3.61  \n",
       "6     Interrogator, Blood Blade of the Queen   2.18  \n",
       "7                              Abyssal Shard   2.67  "
      ]
     },
     "execution_count": 134,
     "metadata": {},
     "output_type": "execute_result"
    }
   ],
   "source": [
    "# Dependencies and Setup\n",
    "import pandas as pd\n",
    "\n",
    "# File to Load (Remember to Change These)\n",
    "file_to_load = \"Resources/purchase_data.csv\"\n",
    "\n",
    "# Read Purchasing File and store into Pandas data frame\n",
    "purchase_data = pd.read_csv(file_to_load)\n",
    "purchase_data.head(8)"
   ]
  },
  {
   "cell_type": "markdown",
   "metadata": {},
   "source": [
    "## Player Count"
   ]
  },
  {
   "cell_type": "markdown",
   "metadata": {},
   "source": [
    "* Display the total number of players\n"
   ]
  },
  {
   "cell_type": "code",
   "execution_count": 135,
   "metadata": {},
   "outputs": [
    {
     "data": {
      "text/html": [
       "<div>\n",
       "<style scoped>\n",
       "    .dataframe tbody tr th:only-of-type {\n",
       "        vertical-align: middle;\n",
       "    }\n",
       "\n",
       "    .dataframe tbody tr th {\n",
       "        vertical-align: top;\n",
       "    }\n",
       "\n",
       "    .dataframe thead th {\n",
       "        text-align: right;\n",
       "    }\n",
       "</style>\n",
       "<table border=\"1\" class=\"dataframe\">\n",
       "  <thead>\n",
       "    <tr style=\"text-align: right;\">\n",
       "      <th></th>\n",
       "      <th>Total Players</th>\n",
       "    </tr>\n",
       "  </thead>\n",
       "  <tbody>\n",
       "    <tr>\n",
       "      <th>0</th>\n",
       "      <td>576</td>\n",
       "    </tr>\n",
       "  </tbody>\n",
       "</table>\n",
       "</div>"
      ],
      "text/plain": [
       "   Total Players\n",
       "0            576"
      ]
     },
     "execution_count": 135,
     "metadata": {},
     "output_type": "execute_result"
    }
   ],
   "source": [
    "total_players=len(purchase_data[\"SN\"].unique())\n",
    "all_players = pd.DataFrame({\"Total Players\":[total_players]})\n",
    "all_players"
   ]
  },
  {
   "cell_type": "markdown",
   "metadata": {},
   "source": [
    "## Purchasing Analysis (Total)"
   ]
  },
  {
   "cell_type": "markdown",
   "metadata": {},
   "source": [
    "* Run basic calculations to obtain number of unique items, average price, etc.\n",
    "\n",
    "\n",
    "* Create a summary data frame to hold the results\n",
    "\n",
    "\n",
    "* Optional: give the displayed data cleaner formatting\n",
    "\n",
    "\n",
    "* Display the summary data frame\n"
   ]
  },
  {
   "cell_type": "code",
   "execution_count": 136,
   "metadata": {},
   "outputs": [
    {
     "data": {
      "text/html": [
       "<style  type=\"text/css\" >\n",
       "</style><table id=\"T_7b007cb6_c3b4_11ea_9b8c_0c9d92c922bd\" ><thead>    <tr>        <th class=\"blank level0\" ></th>        <th class=\"col_heading level0 col0\" >Number of Unique Items</th>        <th class=\"col_heading level0 col1\" >Average Price</th>        <th class=\"col_heading level0 col2\" >Number of Purchases</th>        <th class=\"col_heading level0 col3\" >Total Revenue</th>    </tr></thead><tbody>\n",
       "                <tr>\n",
       "                        <th id=\"T_7b007cb6_c3b4_11ea_9b8c_0c9d92c922bdlevel0_row0\" class=\"row_heading level0 row0\" >0</th>\n",
       "                        <td id=\"T_7b007cb6_c3b4_11ea_9b8c_0c9d92c922bdrow0_col0\" class=\"data row0 col0\" >179</td>\n",
       "                        <td id=\"T_7b007cb6_c3b4_11ea_9b8c_0c9d92c922bdrow0_col1\" class=\"data row0 col1\" >$3.05</td>\n",
       "                        <td id=\"T_7b007cb6_c3b4_11ea_9b8c_0c9d92c922bdrow0_col2\" class=\"data row0 col2\" >780</td>\n",
       "                        <td id=\"T_7b007cb6_c3b4_11ea_9b8c_0c9d92c922bdrow0_col3\" class=\"data row0 col3\" >$2,379.77</td>\n",
       "            </tr>\n",
       "    </tbody></table>"
      ],
      "text/plain": [
       "<pandas.io.formats.style.Styler at 0x27791dd4608>"
      ]
     },
     "execution_count": 136,
     "metadata": {},
     "output_type": "execute_result"
    }
   ],
   "source": [
    "#calculations\n",
    "items = len(purchase_data[\"Item ID\"].value_counts())\n",
    "av_price = purchase_data[\"Price\"].mean()\n",
    "purchases = purchase_data[\"Purchase ID\"].count()\n",
    "revenue = purchase_data[\"Price\"].sum()\n",
    "\n",
    "#place all values in table\n",
    "summarydf = pd.DataFrame({\"Number of Unique Items\":[items],\n",
    "                       \"Average Price\":[av_price],\n",
    "                       \"Number of Purchases\":[purchases],\n",
    "                        \"Total Revenue\":[revenue]\n",
    "                       })\n",
    "#format dataframe\n",
    "summarydf.style.format({\"Average Price\":\"${:.2f}\", \"Total Revenue\":\"${:,.2f}\"})"
   ]
  },
  {
   "cell_type": "markdown",
   "metadata": {},
   "source": [
    "## Gender Demographics"
   ]
  },
  {
   "cell_type": "markdown",
   "metadata": {},
   "source": [
    "* Percentage and Count of Male Players\n",
    "\n",
    "\n",
    "* Percentage and Count of Female Players\n",
    "\n",
    "\n",
    "* Percentage and Count of Other / Non-Disclosed\n",
    "\n",
    "\n"
   ]
  },
  {
   "cell_type": "code",
   "execution_count": 137,
   "metadata": {},
   "outputs": [
    {
     "data": {
      "text/html": [
       "<style  type=\"text/css\" >\n",
       "</style><table id=\"T_7b02edc6_c3b4_11ea_8e8b_0c9d92c922bd\" ><thead>    <tr>        <th class=\"blank level0\" ></th>        <th class=\"col_heading level0 col0\" >Total Count</th>        <th class=\"col_heading level0 col1\" >Percentage of Players</th>    </tr></thead><tbody>\n",
       "                <tr>\n",
       "                        <th id=\"T_7b02edc6_c3b4_11ea_8e8b_0c9d92c922bdlevel0_row0\" class=\"row_heading level0 row0\" >Male</th>\n",
       "                        <td id=\"T_7b02edc6_c3b4_11ea_8e8b_0c9d92c922bdrow0_col0\" class=\"data row0 col0\" >484</td>\n",
       "                        <td id=\"T_7b02edc6_c3b4_11ea_8e8b_0c9d92c922bdrow0_col1\" class=\"data row0 col1\" >84.03%</td>\n",
       "            </tr>\n",
       "            <tr>\n",
       "                        <th id=\"T_7b02edc6_c3b4_11ea_8e8b_0c9d92c922bdlevel0_row1\" class=\"row_heading level0 row1\" >Female</th>\n",
       "                        <td id=\"T_7b02edc6_c3b4_11ea_8e8b_0c9d92c922bdrow1_col0\" class=\"data row1 col0\" >81</td>\n",
       "                        <td id=\"T_7b02edc6_c3b4_11ea_8e8b_0c9d92c922bdrow1_col1\" class=\"data row1 col1\" >14.06%</td>\n",
       "            </tr>\n",
       "            <tr>\n",
       "                        <th id=\"T_7b02edc6_c3b4_11ea_8e8b_0c9d92c922bdlevel0_row2\" class=\"row_heading level0 row2\" >Other / Non-Disclosed</th>\n",
       "                        <td id=\"T_7b02edc6_c3b4_11ea_8e8b_0c9d92c922bdrow2_col0\" class=\"data row2 col0\" >11</td>\n",
       "                        <td id=\"T_7b02edc6_c3b4_11ea_8e8b_0c9d92c922bdrow2_col1\" class=\"data row2 col1\" >1.91%</td>\n",
       "            </tr>\n",
       "    </tbody></table>"
      ],
      "text/plain": [
       "<pandas.io.formats.style.Styler at 0x27791ea23c8>"
      ]
     },
     "execution_count": 137,
     "metadata": {},
     "output_type": "execute_result"
    }
   ],
   "source": [
    "#slim down DF to contain only SN & gender - so we can delete duplicate values for accurate count\n",
    "gender_df=purchase_data[[\"SN\", \"Gender\"]]\n",
    "gender_df.shape\n",
    "\n",
    "#drop duplicate players because we only care about gender once \n",
    "gender_df=gender_df.drop_duplicates()\n",
    "gender_df.shape\n",
    "\n",
    "#calculate total count of each gender\n",
    "gender_count = gender_df[\"Gender\"].value_counts()\n",
    "\n",
    "#calculate total players\n",
    "percent_player = gender_count / total_players\n",
    "\n",
    "#put all values in DF & format\n",
    "gender_demo = pd.DataFrame({\"Total Count\":gender_count, \"Percentage of Players\":percent_player})\n",
    "gender_demo.style.format({\"Percentage of Players\":\"{:.2%}\"})"
   ]
  },
  {
   "cell_type": "markdown",
   "metadata": {},
   "source": [
    "\n",
    "## Purchasing Analysis (Gender)"
   ]
  },
  {
   "cell_type": "markdown",
   "metadata": {},
   "source": [
    "* Run basic calculations to obtain purchase count, avg. purchase price, avg. purchase total per person etc. by gender\n",
    "\n",
    "\n",
    "\n",
    "\n",
    "* Create a summary data frame to hold the results\n",
    "\n",
    "\n",
    "* Optional: give the displayed data cleaner formatting\n",
    "\n",
    "\n",
    "* Display the summary data frame"
   ]
  },
  {
   "cell_type": "code",
   "execution_count": 138,
   "metadata": {},
   "outputs": [
    {
     "data": {
      "text/html": [
       "<style  type=\"text/css\" >\n",
       "</style><table id=\"T_7b0537b4_c3b4_11ea_a72a_0c9d92c922bd\" ><thead>    <tr>        <th class=\"blank level0\" ></th>        <th class=\"col_heading level0 col0\" >Purchase Count</th>        <th class=\"col_heading level0 col1\" >Average Purchase Price</th>        <th class=\"col_heading level0 col2\" >Total Purchase Value</th>        <th class=\"col_heading level0 col3\" >Avg Total Purchase per Person</th>    </tr>    <tr>        <th class=\"index_name level0\" >Gender</th>        <th class=\"blank\" ></th>        <th class=\"blank\" ></th>        <th class=\"blank\" ></th>        <th class=\"blank\" ></th>    </tr></thead><tbody>\n",
       "                <tr>\n",
       "                        <th id=\"T_7b0537b4_c3b4_11ea_a72a_0c9d92c922bdlevel0_row0\" class=\"row_heading level0 row0\" >Female</th>\n",
       "                        <td id=\"T_7b0537b4_c3b4_11ea_a72a_0c9d92c922bdrow0_col0\" class=\"data row0 col0\" >113</td>\n",
       "                        <td id=\"T_7b0537b4_c3b4_11ea_a72a_0c9d92c922bdrow0_col1\" class=\"data row0 col1\" >$3.20</td>\n",
       "                        <td id=\"T_7b0537b4_c3b4_11ea_a72a_0c9d92c922bdrow0_col2\" class=\"data row0 col2\" >$361.94</td>\n",
       "                        <td id=\"T_7b0537b4_c3b4_11ea_a72a_0c9d92c922bdrow0_col3\" class=\"data row0 col3\" >$4.47</td>\n",
       "            </tr>\n",
       "            <tr>\n",
       "                        <th id=\"T_7b0537b4_c3b4_11ea_a72a_0c9d92c922bdlevel0_row1\" class=\"row_heading level0 row1\" >Male</th>\n",
       "                        <td id=\"T_7b0537b4_c3b4_11ea_a72a_0c9d92c922bdrow1_col0\" class=\"data row1 col0\" >652</td>\n",
       "                        <td id=\"T_7b0537b4_c3b4_11ea_a72a_0c9d92c922bdrow1_col1\" class=\"data row1 col1\" >$3.02</td>\n",
       "                        <td id=\"T_7b0537b4_c3b4_11ea_a72a_0c9d92c922bdrow1_col2\" class=\"data row1 col2\" >$1,967.64</td>\n",
       "                        <td id=\"T_7b0537b4_c3b4_11ea_a72a_0c9d92c922bdrow1_col3\" class=\"data row1 col3\" >$4.07</td>\n",
       "            </tr>\n",
       "            <tr>\n",
       "                        <th id=\"T_7b0537b4_c3b4_11ea_a72a_0c9d92c922bdlevel0_row2\" class=\"row_heading level0 row2\" >Other / Non-Disclosed</th>\n",
       "                        <td id=\"T_7b0537b4_c3b4_11ea_a72a_0c9d92c922bdrow2_col0\" class=\"data row2 col0\" >15</td>\n",
       "                        <td id=\"T_7b0537b4_c3b4_11ea_a72a_0c9d92c922bdrow2_col1\" class=\"data row2 col1\" >$3.35</td>\n",
       "                        <td id=\"T_7b0537b4_c3b4_11ea_a72a_0c9d92c922bdrow2_col2\" class=\"data row2 col2\" >$50.19</td>\n",
       "                        <td id=\"T_7b0537b4_c3b4_11ea_a72a_0c9d92c922bdrow2_col3\" class=\"data row2 col3\" >$4.56</td>\n",
       "            </tr>\n",
       "    </tbody></table>"
      ],
      "text/plain": [
       "<pandas.io.formats.style.Styler at 0x27791ce5048>"
      ]
     },
     "execution_count": 138,
     "metadata": {},
     "output_type": "execute_result"
    }
   ],
   "source": [
    "#create group to split by gender\n",
    "gender = purchase_data.groupby(\"Gender\")\n",
    "\n",
    "#calculations for purcase count, av purch price, tot purch value, avg purch per person\n",
    "purchase_count = gender[\"Purchase ID\"].count()\n",
    "av_pp = gender[\"Price\"].mean()\n",
    "tot_val = gender[\"Price\"].sum()\n",
    "avg_ppp = tot_val / gender_count\n",
    "\n",
    "#put all values in DF & format\n",
    "purch_analysis = pd.DataFrame({\"Purchase Count\":purchase_count, \"Average Purchase Price\":av_pp, \"Total Purchase Value\":tot_val, \"Avg Total Purchase per Person\":avg_ppp})\n",
    "purch_analysis.style.format({\"Average Purchase Price\":\"${:.2f}\", \"Total Purchase Value\":\"${:,.2f}\", \"Avg Total Purchase per Person\":\"${:,.2f}\"})"
   ]
  },
  {
   "cell_type": "markdown",
   "metadata": {},
   "source": [
    "## Age Demographics"
   ]
  },
  {
   "cell_type": "markdown",
   "metadata": {},
   "source": [
    "* Establish bins for ages\n",
    "\n",
    "\n",
    "* Categorize the existing players using the age bins. Hint: use pd.cut()\n",
    "\n",
    "\n",
    "* Calculate the numbers and percentages by age group\n",
    "\n",
    "\n",
    "* Create a summary data frame to hold the results\n",
    "\n",
    "\n",
    "* Optional: round the percentage column to two decimal points\n",
    "\n",
    "\n",
    "* Display Age Demographics Table\n"
   ]
  },
  {
   "cell_type": "code",
   "execution_count": 139,
   "metadata": {},
   "outputs": [
    {
     "data": {
      "text/html": [
       "<style  type=\"text/css\" >\n",
       "</style><table id=\"T_7b090862_c3b4_11ea_a42a_0c9d92c922bd\" ><thead>    <tr>        <th class=\"blank level0\" ></th>        <th class=\"col_heading level0 col0\" >Total Count</th>        <th class=\"col_heading level0 col1\" >Percentage of Players</th>    </tr>    <tr>        <th class=\"index_name level0\" >Age Groups</th>        <th class=\"blank\" ></th>        <th class=\"blank\" ></th>    </tr></thead><tbody>\n",
       "                <tr>\n",
       "                        <th id=\"T_7b090862_c3b4_11ea_a42a_0c9d92c922bdlevel0_row0\" class=\"row_heading level0 row0\" ><10</th>\n",
       "                        <td id=\"T_7b090862_c3b4_11ea_a42a_0c9d92c922bdrow0_col0\" class=\"data row0 col0\" >17</td>\n",
       "                        <td id=\"T_7b090862_c3b4_11ea_a42a_0c9d92c922bdrow0_col1\" class=\"data row0 col1\" >2.95%</td>\n",
       "            </tr>\n",
       "            <tr>\n",
       "                        <th id=\"T_7b090862_c3b4_11ea_a42a_0c9d92c922bdlevel0_row1\" class=\"row_heading level0 row1\" >10-14</th>\n",
       "                        <td id=\"T_7b090862_c3b4_11ea_a42a_0c9d92c922bdrow1_col0\" class=\"data row1 col0\" >22</td>\n",
       "                        <td id=\"T_7b090862_c3b4_11ea_a42a_0c9d92c922bdrow1_col1\" class=\"data row1 col1\" >3.82%</td>\n",
       "            </tr>\n",
       "            <tr>\n",
       "                        <th id=\"T_7b090862_c3b4_11ea_a42a_0c9d92c922bdlevel0_row2\" class=\"row_heading level0 row2\" >15-19</th>\n",
       "                        <td id=\"T_7b090862_c3b4_11ea_a42a_0c9d92c922bdrow2_col0\" class=\"data row2 col0\" >107</td>\n",
       "                        <td id=\"T_7b090862_c3b4_11ea_a42a_0c9d92c922bdrow2_col1\" class=\"data row2 col1\" >18.58%</td>\n",
       "            </tr>\n",
       "            <tr>\n",
       "                        <th id=\"T_7b090862_c3b4_11ea_a42a_0c9d92c922bdlevel0_row3\" class=\"row_heading level0 row3\" >20-24</th>\n",
       "                        <td id=\"T_7b090862_c3b4_11ea_a42a_0c9d92c922bdrow3_col0\" class=\"data row3 col0\" >258</td>\n",
       "                        <td id=\"T_7b090862_c3b4_11ea_a42a_0c9d92c922bdrow3_col1\" class=\"data row3 col1\" >44.79%</td>\n",
       "            </tr>\n",
       "            <tr>\n",
       "                        <th id=\"T_7b090862_c3b4_11ea_a42a_0c9d92c922bdlevel0_row4\" class=\"row_heading level0 row4\" >25-29</th>\n",
       "                        <td id=\"T_7b090862_c3b4_11ea_a42a_0c9d92c922bdrow4_col0\" class=\"data row4 col0\" >77</td>\n",
       "                        <td id=\"T_7b090862_c3b4_11ea_a42a_0c9d92c922bdrow4_col1\" class=\"data row4 col1\" >13.37%</td>\n",
       "            </tr>\n",
       "            <tr>\n",
       "                        <th id=\"T_7b090862_c3b4_11ea_a42a_0c9d92c922bdlevel0_row5\" class=\"row_heading level0 row5\" >30-34</th>\n",
       "                        <td id=\"T_7b090862_c3b4_11ea_a42a_0c9d92c922bdrow5_col0\" class=\"data row5 col0\" >52</td>\n",
       "                        <td id=\"T_7b090862_c3b4_11ea_a42a_0c9d92c922bdrow5_col1\" class=\"data row5 col1\" >9.03%</td>\n",
       "            </tr>\n",
       "            <tr>\n",
       "                        <th id=\"T_7b090862_c3b4_11ea_a42a_0c9d92c922bdlevel0_row6\" class=\"row_heading level0 row6\" >35-39</th>\n",
       "                        <td id=\"T_7b090862_c3b4_11ea_a42a_0c9d92c922bdrow6_col0\" class=\"data row6 col0\" >31</td>\n",
       "                        <td id=\"T_7b090862_c3b4_11ea_a42a_0c9d92c922bdrow6_col1\" class=\"data row6 col1\" >5.38%</td>\n",
       "            </tr>\n",
       "            <tr>\n",
       "                        <th id=\"T_7b090862_c3b4_11ea_a42a_0c9d92c922bdlevel0_row7\" class=\"row_heading level0 row7\" >40+</th>\n",
       "                        <td id=\"T_7b090862_c3b4_11ea_a42a_0c9d92c922bdrow7_col0\" class=\"data row7 col0\" >12</td>\n",
       "                        <td id=\"T_7b090862_c3b4_11ea_a42a_0c9d92c922bdrow7_col1\" class=\"data row7 col1\" >2.08%</td>\n",
       "            </tr>\n",
       "    </tbody></table>"
      ],
      "text/plain": [
       "<pandas.io.formats.style.Styler at 0x27791e4ca48>"
      ]
     },
     "execution_count": 139,
     "metadata": {},
     "output_type": "execute_result"
    }
   ],
   "source": [
    "#cut duplicate data\n",
    "agegroup_data = purchase_data[[\"SN\", \"Age\"]]\n",
    "agegroup_data = agegroup_data.drop_duplicates()\n",
    "agegroup_data.shape\n",
    "\n",
    "#establish bins and bin names - based off table we are supposed to create - maxage shows no one over 50 - use 50 for upmost bin\n",
    "bins = [0, 9.9, 14.9, 19.9, 24.9, 29.9, 34.9, 39.9, 50]\n",
    "bin_names = [\"<10\", \"10-14\", \"15-19\", \"20-24\", \"25-29\", \"30-34\", \"35-39\", \"40+\"]\n",
    "\n",
    "#pd.cut the data into the bins & group by age\n",
    "agegroup_data[\"Age Groups\"] = pd.cut(agegroup_data[\"Age\"], bins, labels=bin_names)\n",
    "agegroup_data.head(10)\n",
    "\n",
    "#calcluate total counts and percentages\n",
    "agegroup = agegroup_data.groupby(\"Age Groups\")\n",
    "tot_count = agegroup[\"Age\"].count()\n",
    "percent_age = tot_count / total_players\n",
    "\n",
    "#add to DF to put in table & format\n",
    "age_demo = pd.DataFrame({\"Total Count\":tot_count, \"Percentage of Players\":percent_age})\n",
    "age_demo.style.format({\"Percentage of Players\":\"{:.2%}\"})"
   ]
  },
  {
   "cell_type": "markdown",
   "metadata": {},
   "source": [
    "## Purchasing Analysis (Age)"
   ]
  },
  {
   "cell_type": "markdown",
   "metadata": {},
   "source": [
    "* Bin the purchase_data data frame by age\n",
    "\n",
    "\n",
    "* Run basic calculations to obtain purchase count, avg. purchase price, avg. purchase total per person etc. in the table below\n",
    "\n",
    "\n",
    "* Create a summary data frame to hold the results\n",
    "\n",
    "\n",
    "* Optional: give the displayed data cleaner formatting\n",
    "\n",
    "\n",
    "* Display the summary data frame"
   ]
  },
  {
   "cell_type": "code",
   "execution_count": 149,
   "metadata": {},
   "outputs": [
    {
     "data": {
      "text/html": [
       "<style  type=\"text/css\" >\n",
       "</style><table id=\"T_58cdfe9a_c4a3_11ea_b3c7_0c9d92c922bd\" ><thead>    <tr>        <th class=\"blank level0\" ></th>        <th class=\"col_heading level0 col0\" >Purchase Count</th>        <th class=\"col_heading level0 col1\" >Average Purchase Price</th>        <th class=\"col_heading level0 col2\" >Total Purchase Value</th>        <th class=\"col_heading level0 col3\" >Avg Total Purchase per Person</th>    </tr>    <tr>        <th class=\"index_name level0\" >Age Group</th>        <th class=\"blank\" ></th>        <th class=\"blank\" ></th>        <th class=\"blank\" ></th>        <th class=\"blank\" ></th>    </tr></thead><tbody>\n",
       "                <tr>\n",
       "                        <th id=\"T_58cdfe9a_c4a3_11ea_b3c7_0c9d92c922bdlevel0_row0\" class=\"row_heading level0 row0\" ><10</th>\n",
       "                        <td id=\"T_58cdfe9a_c4a3_11ea_b3c7_0c9d92c922bdrow0_col0\" class=\"data row0 col0\" >23</td>\n",
       "                        <td id=\"T_58cdfe9a_c4a3_11ea_b3c7_0c9d92c922bdrow0_col1\" class=\"data row0 col1\" >$3.35</td>\n",
       "                        <td id=\"T_58cdfe9a_c4a3_11ea_b3c7_0c9d92c922bdrow0_col2\" class=\"data row0 col2\" >$77.13</td>\n",
       "                        <td id=\"T_58cdfe9a_c4a3_11ea_b3c7_0c9d92c922bdrow0_col3\" class=\"data row0 col3\" >$4.54</td>\n",
       "            </tr>\n",
       "            <tr>\n",
       "                        <th id=\"T_58cdfe9a_c4a3_11ea_b3c7_0c9d92c922bdlevel0_row1\" class=\"row_heading level0 row1\" >10-14</th>\n",
       "                        <td id=\"T_58cdfe9a_c4a3_11ea_b3c7_0c9d92c922bdrow1_col0\" class=\"data row1 col0\" >28</td>\n",
       "                        <td id=\"T_58cdfe9a_c4a3_11ea_b3c7_0c9d92c922bdrow1_col1\" class=\"data row1 col1\" >$2.96</td>\n",
       "                        <td id=\"T_58cdfe9a_c4a3_11ea_b3c7_0c9d92c922bdrow1_col2\" class=\"data row1 col2\" >$82.78</td>\n",
       "                        <td id=\"T_58cdfe9a_c4a3_11ea_b3c7_0c9d92c922bdrow1_col3\" class=\"data row1 col3\" >$3.76</td>\n",
       "            </tr>\n",
       "            <tr>\n",
       "                        <th id=\"T_58cdfe9a_c4a3_11ea_b3c7_0c9d92c922bdlevel0_row2\" class=\"row_heading level0 row2\" >15-19</th>\n",
       "                        <td id=\"T_58cdfe9a_c4a3_11ea_b3c7_0c9d92c922bdrow2_col0\" class=\"data row2 col0\" >136</td>\n",
       "                        <td id=\"T_58cdfe9a_c4a3_11ea_b3c7_0c9d92c922bdrow2_col1\" class=\"data row2 col1\" >$3.04</td>\n",
       "                        <td id=\"T_58cdfe9a_c4a3_11ea_b3c7_0c9d92c922bdrow2_col2\" class=\"data row2 col2\" >$412.89</td>\n",
       "                        <td id=\"T_58cdfe9a_c4a3_11ea_b3c7_0c9d92c922bdrow2_col3\" class=\"data row2 col3\" >$3.86</td>\n",
       "            </tr>\n",
       "            <tr>\n",
       "                        <th id=\"T_58cdfe9a_c4a3_11ea_b3c7_0c9d92c922bdlevel0_row3\" class=\"row_heading level0 row3\" >20-24</th>\n",
       "                        <td id=\"T_58cdfe9a_c4a3_11ea_b3c7_0c9d92c922bdrow3_col0\" class=\"data row3 col0\" >365</td>\n",
       "                        <td id=\"T_58cdfe9a_c4a3_11ea_b3c7_0c9d92c922bdrow3_col1\" class=\"data row3 col1\" >$3.05</td>\n",
       "                        <td id=\"T_58cdfe9a_c4a3_11ea_b3c7_0c9d92c922bdrow3_col2\" class=\"data row3 col2\" >$1,114.06</td>\n",
       "                        <td id=\"T_58cdfe9a_c4a3_11ea_b3c7_0c9d92c922bdrow3_col3\" class=\"data row3 col3\" >$4.32</td>\n",
       "            </tr>\n",
       "            <tr>\n",
       "                        <th id=\"T_58cdfe9a_c4a3_11ea_b3c7_0c9d92c922bdlevel0_row4\" class=\"row_heading level0 row4\" >25-29</th>\n",
       "                        <td id=\"T_58cdfe9a_c4a3_11ea_b3c7_0c9d92c922bdrow4_col0\" class=\"data row4 col0\" >101</td>\n",
       "                        <td id=\"T_58cdfe9a_c4a3_11ea_b3c7_0c9d92c922bdrow4_col1\" class=\"data row4 col1\" >$2.90</td>\n",
       "                        <td id=\"T_58cdfe9a_c4a3_11ea_b3c7_0c9d92c922bdrow4_col2\" class=\"data row4 col2\" >$293.00</td>\n",
       "                        <td id=\"T_58cdfe9a_c4a3_11ea_b3c7_0c9d92c922bdrow4_col3\" class=\"data row4 col3\" >$3.81</td>\n",
       "            </tr>\n",
       "            <tr>\n",
       "                        <th id=\"T_58cdfe9a_c4a3_11ea_b3c7_0c9d92c922bdlevel0_row5\" class=\"row_heading level0 row5\" >30-34</th>\n",
       "                        <td id=\"T_58cdfe9a_c4a3_11ea_b3c7_0c9d92c922bdrow5_col0\" class=\"data row5 col0\" >73</td>\n",
       "                        <td id=\"T_58cdfe9a_c4a3_11ea_b3c7_0c9d92c922bdrow5_col1\" class=\"data row5 col1\" >$2.93</td>\n",
       "                        <td id=\"T_58cdfe9a_c4a3_11ea_b3c7_0c9d92c922bdrow5_col2\" class=\"data row5 col2\" >$214.00</td>\n",
       "                        <td id=\"T_58cdfe9a_c4a3_11ea_b3c7_0c9d92c922bdrow5_col3\" class=\"data row5 col3\" >$4.12</td>\n",
       "            </tr>\n",
       "            <tr>\n",
       "                        <th id=\"T_58cdfe9a_c4a3_11ea_b3c7_0c9d92c922bdlevel0_row6\" class=\"row_heading level0 row6\" >35-39</th>\n",
       "                        <td id=\"T_58cdfe9a_c4a3_11ea_b3c7_0c9d92c922bdrow6_col0\" class=\"data row6 col0\" >41</td>\n",
       "                        <td id=\"T_58cdfe9a_c4a3_11ea_b3c7_0c9d92c922bdrow6_col1\" class=\"data row6 col1\" >$3.60</td>\n",
       "                        <td id=\"T_58cdfe9a_c4a3_11ea_b3c7_0c9d92c922bdrow6_col2\" class=\"data row6 col2\" >$147.67</td>\n",
       "                        <td id=\"T_58cdfe9a_c4a3_11ea_b3c7_0c9d92c922bdrow6_col3\" class=\"data row6 col3\" >$4.76</td>\n",
       "            </tr>\n",
       "            <tr>\n",
       "                        <th id=\"T_58cdfe9a_c4a3_11ea_b3c7_0c9d92c922bdlevel0_row7\" class=\"row_heading level0 row7\" >40+</th>\n",
       "                        <td id=\"T_58cdfe9a_c4a3_11ea_b3c7_0c9d92c922bdrow7_col0\" class=\"data row7 col0\" >13</td>\n",
       "                        <td id=\"T_58cdfe9a_c4a3_11ea_b3c7_0c9d92c922bdrow7_col1\" class=\"data row7 col1\" >$2.94</td>\n",
       "                        <td id=\"T_58cdfe9a_c4a3_11ea_b3c7_0c9d92c922bdrow7_col2\" class=\"data row7 col2\" >$38.24</td>\n",
       "                        <td id=\"T_58cdfe9a_c4a3_11ea_b3c7_0c9d92c922bdrow7_col3\" class=\"data row7 col3\" >$3.19</td>\n",
       "            </tr>\n",
       "    </tbody></table>"
      ],
      "text/plain": [
       "<pandas.io.formats.style.Styler at 0x2779191a248>"
      ]
     },
     "execution_count": 149,
     "metadata": {},
     "output_type": "execute_result"
    }
   ],
   "source": [
    "#using same bins as above\n",
    "bins = [0, 9.9, 14.9, 19.9, 24.9, 29.9, 34.9, 39.9, 50]\n",
    "bin_names = [\"<10\", \"10-14\", \"15-19\", \"20-24\", \"25-29\", \"30-34\", \"35-39\", \"40+\"]\n",
    "\n",
    "#pd.cut the data into the bins & group by age - dont cut out duplicates cause want all purchases\n",
    "purchase_data[\"Age Group\"] = pd.cut(purchase_data[\"Age\"], bins, labels=bin_names)\n",
    "age_group = purchase_data.groupby(\"Age Group\")\n",
    "age_group.head()\n",
    "\n",
    "#perform calculations\n",
    "pcount = age_group[\"Purchase ID\"].count()\n",
    "avg_pp = age_group[\"Price\"].mean()\n",
    "tot_pv = age_group[\"Price\"].sum()\n",
    "avg_totppp = tot_pv / tot_count\n",
    "\n",
    "#add to DF to put in table & format\n",
    "age_analysis = pd.DataFrame({\"Purchase Count\":pcount, \"Average Purchase Price\":avg_pp, \"Total Purchase Value\":tot_pv, \"Avg Total Purchase per Person\":avg_totppp})\n",
    "age_analysis.style.format({\"Average Purchase Price\":\"${:,.2f}\", \"Total Purchase Value\":\"${:,.2f}\", \"Avg Total Purchase per Person\":\"${:,.2f}\"})"
   ]
  },
  {
   "cell_type": "markdown",
   "metadata": {},
   "source": [
    "## Top Spenders"
   ]
  },
  {
   "cell_type": "markdown",
   "metadata": {},
   "source": [
    "* Run basic calculations to obtain the results in the table below\n",
    "\n",
    "\n",
    "* Create a summary data frame to hold the results\n",
    "\n",
    "\n",
    "* Sort the total purchase value column in descending order\n",
    "\n",
    "\n",
    "* Optional: give the displayed data cleaner formatting\n",
    "\n",
    "\n",
    "* Display a preview of the summary data frame\n",
    "\n"
   ]
  },
  {
   "cell_type": "code",
   "execution_count": 156,
   "metadata": {},
   "outputs": [
    {
     "data": {
      "text/html": [
       "<style  type=\"text/css\" >\n",
       "</style><table id=\"T_d8b10c02_c4ac_11ea_a7dd_0c9d92c922bd\" ><thead>    <tr>        <th class=\"blank level0\" ></th>        <th class=\"col_heading level0 col0\" >Purchase Count</th>        <th class=\"col_heading level0 col1\" >Average Purchase Price</th>        <th class=\"col_heading level0 col2\" >Total Purchase Value</th>    </tr>    <tr>        <th class=\"index_name level0\" >SN</th>        <th class=\"blank\" ></th>        <th class=\"blank\" ></th>        <th class=\"blank\" ></th>    </tr></thead><tbody>\n",
       "                <tr>\n",
       "                        <th id=\"T_d8b10c02_c4ac_11ea_a7dd_0c9d92c922bdlevel0_row0\" class=\"row_heading level0 row0\" >Lisosia93</th>\n",
       "                        <td id=\"T_d8b10c02_c4ac_11ea_a7dd_0c9d92c922bdrow0_col0\" class=\"data row0 col0\" >5</td>\n",
       "                        <td id=\"T_d8b10c02_c4ac_11ea_a7dd_0c9d92c922bdrow0_col1\" class=\"data row0 col1\" >$3.79</td>\n",
       "                        <td id=\"T_d8b10c02_c4ac_11ea_a7dd_0c9d92c922bdrow0_col2\" class=\"data row0 col2\" >$18.96</td>\n",
       "            </tr>\n",
       "            <tr>\n",
       "                        <th id=\"T_d8b10c02_c4ac_11ea_a7dd_0c9d92c922bdlevel0_row1\" class=\"row_heading level0 row1\" >Idastidru52</th>\n",
       "                        <td id=\"T_d8b10c02_c4ac_11ea_a7dd_0c9d92c922bdrow1_col0\" class=\"data row1 col0\" >4</td>\n",
       "                        <td id=\"T_d8b10c02_c4ac_11ea_a7dd_0c9d92c922bdrow1_col1\" class=\"data row1 col1\" >$3.86</td>\n",
       "                        <td id=\"T_d8b10c02_c4ac_11ea_a7dd_0c9d92c922bdrow1_col2\" class=\"data row1 col2\" >$15.45</td>\n",
       "            </tr>\n",
       "            <tr>\n",
       "                        <th id=\"T_d8b10c02_c4ac_11ea_a7dd_0c9d92c922bdlevel0_row2\" class=\"row_heading level0 row2\" >Chamjask73</th>\n",
       "                        <td id=\"T_d8b10c02_c4ac_11ea_a7dd_0c9d92c922bdrow2_col0\" class=\"data row2 col0\" >3</td>\n",
       "                        <td id=\"T_d8b10c02_c4ac_11ea_a7dd_0c9d92c922bdrow2_col1\" class=\"data row2 col1\" >$4.61</td>\n",
       "                        <td id=\"T_d8b10c02_c4ac_11ea_a7dd_0c9d92c922bdrow2_col2\" class=\"data row2 col2\" >$13.83</td>\n",
       "            </tr>\n",
       "            <tr>\n",
       "                        <th id=\"T_d8b10c02_c4ac_11ea_a7dd_0c9d92c922bdlevel0_row3\" class=\"row_heading level0 row3\" >Iral74</th>\n",
       "                        <td id=\"T_d8b10c02_c4ac_11ea_a7dd_0c9d92c922bdrow3_col0\" class=\"data row3 col0\" >4</td>\n",
       "                        <td id=\"T_d8b10c02_c4ac_11ea_a7dd_0c9d92c922bdrow3_col1\" class=\"data row3 col1\" >$3.40</td>\n",
       "                        <td id=\"T_d8b10c02_c4ac_11ea_a7dd_0c9d92c922bdrow3_col2\" class=\"data row3 col2\" >$13.62</td>\n",
       "            </tr>\n",
       "            <tr>\n",
       "                        <th id=\"T_d8b10c02_c4ac_11ea_a7dd_0c9d92c922bdlevel0_row4\" class=\"row_heading level0 row4\" >Iskadarya95</th>\n",
       "                        <td id=\"T_d8b10c02_c4ac_11ea_a7dd_0c9d92c922bdrow4_col0\" class=\"data row4 col0\" >3</td>\n",
       "                        <td id=\"T_d8b10c02_c4ac_11ea_a7dd_0c9d92c922bdrow4_col1\" class=\"data row4 col1\" >$4.37</td>\n",
       "                        <td id=\"T_d8b10c02_c4ac_11ea_a7dd_0c9d92c922bdrow4_col2\" class=\"data row4 col2\" >$13.10</td>\n",
       "            </tr>\n",
       "    </tbody></table>"
      ],
      "text/plain": [
       "<pandas.io.formats.style.Styler at 0x27792681b08>"
      ]
     },
     "execution_count": 156,
     "metadata": {},
     "output_type": "execute_result"
    }
   ],
   "source": [
    "#create group\n",
    "top_spend = purchase_data.groupby(\"SN\")\n",
    "\n",
    "#perform calculations\n",
    "pcount = top_spend[\"Purchase ID\"].count()\n",
    "avrg_pp = top_spend[\"Price\"].mean()\n",
    "tot_val = top_spend[\"Price\"].sum()\n",
    "\n",
    "#create new DF\n",
    "top_spend = pd.DataFrame({\"Purchase Count\":pcount, \"Average Purchase Price\":avrg_pp, \"Total Purchase Value\":tot_val})\n",
    "top_spend\n",
    "\n",
    "#sort to display only top 5 & format\n",
    "top_spend = top_spend.sort_values([\"Total Purchase Value\"], ascending=False).head()\n",
    "top_spend.style.format({\"Average Purchase Price\":\"${:,.2f}\", \"Total Purchase Value\":\"${:,.2f}\"})"
   ]
  },
  {
   "cell_type": "markdown",
   "metadata": {},
   "source": [
    "## Most Popular Items"
   ]
  },
  {
   "cell_type": "markdown",
   "metadata": {},
   "source": [
    "* Retrieve the Item ID, Item Name, and Item Price columns\n",
    "\n",
    "\n",
    "* Group by Item ID and Item Name. Perform calculations to obtain purchase count, item price, and total purchase value\n",
    "\n",
    "\n",
    "* Create a summary data frame to hold the results\n",
    "\n",
    "\n",
    "* Sort the purchase count column in descending order\n",
    "\n",
    "\n",
    "* Optional: give the displayed data cleaner formatting\n",
    "\n",
    "\n",
    "* Display a preview of the summary data frame\n",
    "\n"
   ]
  },
  {
   "cell_type": "code",
   "execution_count": 167,
   "metadata": {},
   "outputs": [
    {
     "data": {
      "text/html": [
       "<style  type=\"text/css\" >\n",
       "</style><table id=\"T_7f9f2218_c4b5_11ea_ab30_0c9d92c922bd\" ><thead>    <tr>        <th class=\"blank\" ></th>        <th class=\"blank level0\" ></th>        <th class=\"col_heading level0 col0\" >Purchase Count</th>        <th class=\"col_heading level0 col1\" >Item Price</th>        <th class=\"col_heading level0 col2\" >Total Purchase Value</th>    </tr>    <tr>        <th class=\"index_name level0\" >Item ID</th>        <th class=\"index_name level1\" >Item Name</th>        <th class=\"blank\" ></th>        <th class=\"blank\" ></th>        <th class=\"blank\" ></th>    </tr></thead><tbody>\n",
       "                <tr>\n",
       "                        <th id=\"T_7f9f2218_c4b5_11ea_ab30_0c9d92c922bdlevel0_row0\" class=\"row_heading level0 row0\" >92</th>\n",
       "                        <th id=\"T_7f9f2218_c4b5_11ea_ab30_0c9d92c922bdlevel1_row0\" class=\"row_heading level1 row0\" >Final Critic</th>\n",
       "                        <td id=\"T_7f9f2218_c4b5_11ea_ab30_0c9d92c922bdrow0_col0\" class=\"data row0 col0\" >13</td>\n",
       "                        <td id=\"T_7f9f2218_c4b5_11ea_ab30_0c9d92c922bdrow0_col1\" class=\"data row0 col1\" >$4.61</td>\n",
       "                        <td id=\"T_7f9f2218_c4b5_11ea_ab30_0c9d92c922bdrow0_col2\" class=\"data row0 col2\" >$59.99</td>\n",
       "            </tr>\n",
       "            <tr>\n",
       "                        <th id=\"T_7f9f2218_c4b5_11ea_ab30_0c9d92c922bdlevel0_row1\" class=\"row_heading level0 row1\" >178</th>\n",
       "                        <th id=\"T_7f9f2218_c4b5_11ea_ab30_0c9d92c922bdlevel1_row1\" class=\"row_heading level1 row1\" >Oathbreaker, Last Hope of the Breaking Storm</th>\n",
       "                        <td id=\"T_7f9f2218_c4b5_11ea_ab30_0c9d92c922bdrow1_col0\" class=\"data row1 col0\" >12</td>\n",
       "                        <td id=\"T_7f9f2218_c4b5_11ea_ab30_0c9d92c922bdrow1_col1\" class=\"data row1 col1\" >$4.23</td>\n",
       "                        <td id=\"T_7f9f2218_c4b5_11ea_ab30_0c9d92c922bdrow1_col2\" class=\"data row1 col2\" >$50.76</td>\n",
       "            </tr>\n",
       "            <tr>\n",
       "                        <th id=\"T_7f9f2218_c4b5_11ea_ab30_0c9d92c922bdlevel0_row2\" class=\"row_heading level0 row2\" >145</th>\n",
       "                        <th id=\"T_7f9f2218_c4b5_11ea_ab30_0c9d92c922bdlevel1_row2\" class=\"row_heading level1 row2\" >Fiery Glass Crusader</th>\n",
       "                        <td id=\"T_7f9f2218_c4b5_11ea_ab30_0c9d92c922bdrow2_col0\" class=\"data row2 col0\" >9</td>\n",
       "                        <td id=\"T_7f9f2218_c4b5_11ea_ab30_0c9d92c922bdrow2_col1\" class=\"data row2 col1\" >$4.58</td>\n",
       "                        <td id=\"T_7f9f2218_c4b5_11ea_ab30_0c9d92c922bdrow2_col2\" class=\"data row2 col2\" >$41.22</td>\n",
       "            </tr>\n",
       "            <tr>\n",
       "                        <th id=\"T_7f9f2218_c4b5_11ea_ab30_0c9d92c922bdlevel0_row3\" class=\"row_heading level0 row3\" >132</th>\n",
       "                        <th id=\"T_7f9f2218_c4b5_11ea_ab30_0c9d92c922bdlevel1_row3\" class=\"row_heading level1 row3\" >Persuasion</th>\n",
       "                        <td id=\"T_7f9f2218_c4b5_11ea_ab30_0c9d92c922bdrow3_col0\" class=\"data row3 col0\" >9</td>\n",
       "                        <td id=\"T_7f9f2218_c4b5_11ea_ab30_0c9d92c922bdrow3_col1\" class=\"data row3 col1\" >$3.22</td>\n",
       "                        <td id=\"T_7f9f2218_c4b5_11ea_ab30_0c9d92c922bdrow3_col2\" class=\"data row3 col2\" >$28.99</td>\n",
       "            </tr>\n",
       "            <tr>\n",
       "                        <th id=\"T_7f9f2218_c4b5_11ea_ab30_0c9d92c922bdlevel0_row4\" class=\"row_heading level0 row4\" >108</th>\n",
       "                        <th id=\"T_7f9f2218_c4b5_11ea_ab30_0c9d92c922bdlevel1_row4\" class=\"row_heading level1 row4\" >Extraction, Quickblade Of Trembling Hands</th>\n",
       "                        <td id=\"T_7f9f2218_c4b5_11ea_ab30_0c9d92c922bdrow4_col0\" class=\"data row4 col0\" >9</td>\n",
       "                        <td id=\"T_7f9f2218_c4b5_11ea_ab30_0c9d92c922bdrow4_col1\" class=\"data row4 col1\" >$3.53</td>\n",
       "                        <td id=\"T_7f9f2218_c4b5_11ea_ab30_0c9d92c922bdrow4_col2\" class=\"data row4 col2\" >$31.77</td>\n",
       "            </tr>\n",
       "    </tbody></table>"
      ],
      "text/plain": [
       "<pandas.io.formats.style.Styler at 0x27791e121c8>"
      ]
     },
     "execution_count": 167,
     "metadata": {},
     "output_type": "execute_result"
    }
   ],
   "source": [
    "#Retrieve columns\n",
    "cols = purchase_data[[\"Item ID\", \"Item Name\", \"Price\"]]\n",
    "\n",
    "#create group\n",
    "pop_items = cols.groupby([\"Item ID\", \"Item Name\"])\n",
    "\n",
    "#calculations\n",
    "pcounts = pop_items[\"Price\"].count()\n",
    "pvalue = pop_items[\"Price\"].sum()\n",
    "pprice = pvalue / pcounts\n",
    "\n",
    "#place in DataFrame, sort and format to show top 5\n",
    "pop_items = pd.DataFrame({\"Purchase Count\":pcounts, \"Item Price\":pprice, \"Total Purchase Value\":pvalue})\n",
    "pop_sort = pop_items.sort_values(\"Purchase Count\", ascending=False).head()\n",
    "pop_sort.style.format({\"Item Price\":\"${:,.2f}\", \"Total Purchase Value\":\"${:,.2f}\"})"
   ]
  },
  {
   "cell_type": "markdown",
   "metadata": {},
   "source": [
    "## Most Profitable Items"
   ]
  },
  {
   "cell_type": "markdown",
   "metadata": {},
   "source": [
    "* Sort the above table by total purchase value in descending order\n",
    "\n",
    "\n",
    "* Optional: give the displayed data cleaner formatting\n",
    "\n",
    "\n",
    "* Display a preview of the data frame\n",
    "\n"
   ]
  },
  {
   "cell_type": "code",
   "execution_count": 171,
   "metadata": {
    "scrolled": true
   },
   "outputs": [
    {
     "data": {
      "text/html": [
       "<style  type=\"text/css\" >\n",
       "</style><table id=\"T_09e9405a_c4b6_11ea_bc7e_0c9d92c922bd\" ><thead>    <tr>        <th class=\"blank\" ></th>        <th class=\"blank level0\" ></th>        <th class=\"col_heading level0 col0\" >Purchase Count</th>        <th class=\"col_heading level0 col1\" >Item Price</th>        <th class=\"col_heading level0 col2\" >Total Purchase Value</th>    </tr>    <tr>        <th class=\"index_name level0\" >Item ID</th>        <th class=\"index_name level1\" >Item Name</th>        <th class=\"blank\" ></th>        <th class=\"blank\" ></th>        <th class=\"blank\" ></th>    </tr></thead><tbody>\n",
       "                <tr>\n",
       "                        <th id=\"T_09e9405a_c4b6_11ea_bc7e_0c9d92c922bdlevel0_row0\" class=\"row_heading level0 row0\" >92</th>\n",
       "                        <th id=\"T_09e9405a_c4b6_11ea_bc7e_0c9d92c922bdlevel1_row0\" class=\"row_heading level1 row0\" >Final Critic</th>\n",
       "                        <td id=\"T_09e9405a_c4b6_11ea_bc7e_0c9d92c922bdrow0_col0\" class=\"data row0 col0\" >13</td>\n",
       "                        <td id=\"T_09e9405a_c4b6_11ea_bc7e_0c9d92c922bdrow0_col1\" class=\"data row0 col1\" >$4.61</td>\n",
       "                        <td id=\"T_09e9405a_c4b6_11ea_bc7e_0c9d92c922bdrow0_col2\" class=\"data row0 col2\" >$59.99</td>\n",
       "            </tr>\n",
       "            <tr>\n",
       "                        <th id=\"T_09e9405a_c4b6_11ea_bc7e_0c9d92c922bdlevel0_row1\" class=\"row_heading level0 row1\" >178</th>\n",
       "                        <th id=\"T_09e9405a_c4b6_11ea_bc7e_0c9d92c922bdlevel1_row1\" class=\"row_heading level1 row1\" >Oathbreaker, Last Hope of the Breaking Storm</th>\n",
       "                        <td id=\"T_09e9405a_c4b6_11ea_bc7e_0c9d92c922bdrow1_col0\" class=\"data row1 col0\" >12</td>\n",
       "                        <td id=\"T_09e9405a_c4b6_11ea_bc7e_0c9d92c922bdrow1_col1\" class=\"data row1 col1\" >$4.23</td>\n",
       "                        <td id=\"T_09e9405a_c4b6_11ea_bc7e_0c9d92c922bdrow1_col2\" class=\"data row1 col2\" >$50.76</td>\n",
       "            </tr>\n",
       "            <tr>\n",
       "                        <th id=\"T_09e9405a_c4b6_11ea_bc7e_0c9d92c922bdlevel0_row2\" class=\"row_heading level0 row2\" >82</th>\n",
       "                        <th id=\"T_09e9405a_c4b6_11ea_bc7e_0c9d92c922bdlevel1_row2\" class=\"row_heading level1 row2\" >Nirvana</th>\n",
       "                        <td id=\"T_09e9405a_c4b6_11ea_bc7e_0c9d92c922bdrow2_col0\" class=\"data row2 col0\" >9</td>\n",
       "                        <td id=\"T_09e9405a_c4b6_11ea_bc7e_0c9d92c922bdrow2_col1\" class=\"data row2 col1\" >$4.90</td>\n",
       "                        <td id=\"T_09e9405a_c4b6_11ea_bc7e_0c9d92c922bdrow2_col2\" class=\"data row2 col2\" >$44.10</td>\n",
       "            </tr>\n",
       "            <tr>\n",
       "                        <th id=\"T_09e9405a_c4b6_11ea_bc7e_0c9d92c922bdlevel0_row3\" class=\"row_heading level0 row3\" >145</th>\n",
       "                        <th id=\"T_09e9405a_c4b6_11ea_bc7e_0c9d92c922bdlevel1_row3\" class=\"row_heading level1 row3\" >Fiery Glass Crusader</th>\n",
       "                        <td id=\"T_09e9405a_c4b6_11ea_bc7e_0c9d92c922bdrow3_col0\" class=\"data row3 col0\" >9</td>\n",
       "                        <td id=\"T_09e9405a_c4b6_11ea_bc7e_0c9d92c922bdrow3_col1\" class=\"data row3 col1\" >$4.58</td>\n",
       "                        <td id=\"T_09e9405a_c4b6_11ea_bc7e_0c9d92c922bdrow3_col2\" class=\"data row3 col2\" >$41.22</td>\n",
       "            </tr>\n",
       "            <tr>\n",
       "                        <th id=\"T_09e9405a_c4b6_11ea_bc7e_0c9d92c922bdlevel0_row4\" class=\"row_heading level0 row4\" >103</th>\n",
       "                        <th id=\"T_09e9405a_c4b6_11ea_bc7e_0c9d92c922bdlevel1_row4\" class=\"row_heading level1 row4\" >Singed Scalpel</th>\n",
       "                        <td id=\"T_09e9405a_c4b6_11ea_bc7e_0c9d92c922bdrow4_col0\" class=\"data row4 col0\" >8</td>\n",
       "                        <td id=\"T_09e9405a_c4b6_11ea_bc7e_0c9d92c922bdrow4_col1\" class=\"data row4 col1\" >$4.35</td>\n",
       "                        <td id=\"T_09e9405a_c4b6_11ea_bc7e_0c9d92c922bdrow4_col2\" class=\"data row4 col2\" >$34.80</td>\n",
       "            </tr>\n",
       "    </tbody></table>"
      ],
      "text/plain": [
       "<pandas.io.formats.style.Styler at 0x27791dede08>"
      ]
     },
     "execution_count": 171,
     "metadata": {},
     "output_type": "execute_result"
    }
   ],
   "source": [
    "pop_prof_sort = pop_items.sort_values(\"Total Purchase Value\", ascending=False).head()\n",
    "pop_prof_sort.style.format({\"Item Price\":\"${:,.2f}\", \"Total Purchase Value\":\"${:,.2f}\"})                            "
   ]
  },
  {
   "cell_type": "code",
   "execution_count": null,
   "metadata": {},
   "outputs": [],
   "source": []
  }
 ],
 "metadata": {
  "anaconda-cloud": {},
  "kernel_info": {
   "name": "python3"
  },
  "kernelspec": {
   "display_name": "Python 3",
   "language": "python",
   "name": "python3"
  },
  "language_info": {
   "codemirror_mode": {
    "name": "ipython",
    "version": 3
   },
   "file_extension": ".py",
   "mimetype": "text/x-python",
   "name": "python",
   "nbconvert_exporter": "python",
   "pygments_lexer": "ipython3",
   "version": "3.7.6"
  },
  "latex_envs": {
   "LaTeX_envs_menu_present": true,
   "autoclose": false,
   "autocomplete": true,
   "bibliofile": "biblio.bib",
   "cite_by": "apalike",
   "current_citInitial": 1,
   "eqLabelWithNumbers": true,
   "eqNumInitial": 1,
   "hotkeys": {
    "equation": "Ctrl-E",
    "itemize": "Ctrl-I"
   },
   "labels_anchors": false,
   "latex_user_defs": false,
   "report_style_numbering": false,
   "user_envs_cfg": false
  },
  "nteract": {
   "version": "0.2.0"
  }
 },
 "nbformat": 4,
 "nbformat_minor": 2
}
